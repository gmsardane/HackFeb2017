{
 "cells": [
  {
   "cell_type": "code",
   "execution_count": 2,
   "metadata": {
    "collapsed": false
   },
   "outputs": [
    {
     "name": "stderr",
     "output_type": "stream",
     "text": [
      "/Users/aristotle/.virtualenvs/jupyter/lib/python2.7/site-packages/matplotlib/font_manager.py:273: UserWarning: Matplotlib is building the font cache using fc-list. This may take a moment.\n",
      "  warnings.warn('Matplotlib is building the font cache using fc-list. This may take a moment.')\n"
     ]
    }
   ],
   "source": [
    "import pandas as pd\n",
    "import numpy as np\n",
    "import nltk\n",
    "from nltk.corpus import stopwords\n",
    "from nltk import FreqDist\n",
    "import datetime\n",
    "%matplotlib inline"
   ]
  },
  {
   "cell_type": "code",
   "execution_count": 3,
   "metadata": {
    "collapsed": false
   },
   "outputs": [],
   "source": [
    "data = pd.read_csv('realDonaldTrump_tweets.csv')"
   ]
  },
  {
   "cell_type": "code",
   "execution_count": 4,
   "metadata": {
    "collapsed": true
   },
   "outputs": [],
   "source": [
    "data['created_at'] = pd.to_datetime(data['created_at'])\n",
    "data.set_index(['created_at'], drop=True, inplace=True)"
   ]
  },
  {
   "cell_type": "code",
   "execution_count": 5,
   "metadata": {
    "collapsed": true
   },
   "outputs": [],
   "source": [
    "data['count'] = 1"
   ]
  },
  {
   "cell_type": "code",
   "execution_count": 6,
   "metadata": {
    "collapsed": false
   },
   "outputs": [
    {
     "data": {
      "text/plain": [
       "source\n",
       "Instagram                 2\n",
       "Media Studio              1\n",
       "Periscope                 1\n",
       "Twitter Ads               1\n",
       "Twitter Web Client      273\n",
       "Twitter for Android    1438\n",
       "Twitter for iPad         22\n",
       "Twitter for iPhone     1462\n",
       "Name: count, dtype: int64"
      ]
     },
     "execution_count": 6,
     "metadata": {},
     "output_type": "execute_result"
    }
   ],
   "source": [
    "data.groupby(['source'])['count'].sum()"
   ]
  },
  {
   "cell_type": "code",
   "execution_count": 7,
   "metadata": {
    "collapsed": true
   },
   "outputs": [],
   "source": [
    "count_words = lambda x: len(x.split())\n",
    "character_count = lambda x: len(x)\n",
    "tokenize = lambda x: nltk.word_tokenize(x.decode('utf-8'))\n",
    "sentence_count = lambda x: len(nltk.sent_tokenize(x.decode('utf-8')))"
   ]
  },
  {
   "cell_type": "code",
   "execution_count": 8,
   "metadata": {
    "collapsed": true
   },
   "outputs": [],
   "source": [
    "data['word_count'] = data['text'].apply(count_words)"
   ]
  },
  {
   "cell_type": "code",
   "execution_count": 9,
   "metadata": {
    "collapsed": true
   },
   "outputs": [],
   "source": [
    "data['character_count'] = data['text'].apply(character_count)"
   ]
  },
  {
   "cell_type": "code",
   "execution_count": 10,
   "metadata": {
    "collapsed": true
   },
   "outputs": [],
   "source": [
    "data['sentence_count'] = data['text'].apply(sentence_count)"
   ]
  },
  {
   "cell_type": "code",
   "execution_count": 11,
   "metadata": {
    "collapsed": true
   },
   "outputs": [],
   "source": [
    "data['tokens'] = data['text'].apply(tokenize)"
   ]
  },
  {
   "cell_type": "code",
   "execution_count": 12,
   "metadata": {
    "collapsed": true
   },
   "outputs": [],
   "source": [
    "data['token_count'] = data['tokens'].apply(character_count)"
   ]
  },
  {
   "cell_type": "code",
   "execution_count": 13,
   "metadata": {
    "collapsed": false
   },
   "outputs": [
    {
     "data": {
      "text/html": [
       "<div>\n",
       "<table border=\"1\" class=\"dataframe\">\n",
       "  <thead>\n",
       "    <tr style=\"text-align: right;\">\n",
       "      <th></th>\n",
       "      <th>id</th>\n",
       "      <th>text</th>\n",
       "      <th>source</th>\n",
       "      <th>count</th>\n",
       "      <th>word_count</th>\n",
       "      <th>character_count</th>\n",
       "      <th>sentence_count</th>\n",
       "      <th>tokens</th>\n",
       "      <th>token_count</th>\n",
       "    </tr>\n",
       "    <tr>\n",
       "      <th>created_at</th>\n",
       "      <th></th>\n",
       "      <th></th>\n",
       "      <th></th>\n",
       "      <th></th>\n",
       "      <th></th>\n",
       "      <th></th>\n",
       "      <th></th>\n",
       "      <th></th>\n",
       "      <th></th>\n",
       "    </tr>\n",
       "  </thead>\n",
       "  <tbody>\n",
       "    <tr>\n",
       "      <th>2017-02-22 12:50:56</th>\n",
       "      <td>834384982495940613</td>\n",
       "      <td>Very much enjoyed my tour of the Smithsonian's...</td>\n",
       "      <td>Twitter for Android</td>\n",
       "      <td>1</td>\n",
       "      <td>22</td>\n",
       "      <td>140</td>\n",
       "      <td>1</td>\n",
       "      <td>[Very, much, enjoyed, my, tour, of, the, Smith...</td>\n",
       "      <td>26</td>\n",
       "    </tr>\n",
       "    <tr>\n",
       "      <th>2017-02-22 12:20:40</th>\n",
       "      <td>834377364947816448</td>\n",
       "      <td>One thing I will say about Rep. Keith Ellison,...</td>\n",
       "      <td>Twitter for Android</td>\n",
       "      <td>1</td>\n",
       "      <td>29</td>\n",
       "      <td>137</td>\n",
       "      <td>1</td>\n",
       "      <td>[One, thing, I, will, say, about, Rep., Keith,...</td>\n",
       "      <td>32</td>\n",
       "    </tr>\n",
       "    <tr>\n",
       "      <th>2017-02-21 23:23:13</th>\n",
       "      <td>834181712783560705</td>\n",
       "      <td>The so-called angry crowds in home districts o...</td>\n",
       "      <td>Twitter for Android</td>\n",
       "      <td>1</td>\n",
       "      <td>21</td>\n",
       "      <td>136</td>\n",
       "      <td>2</td>\n",
       "      <td>[The, so-called, angry, crowds, in, home, dist...</td>\n",
       "      <td>25</td>\n",
       "    </tr>\n",
       "    <tr>\n",
       "      <th>2017-02-21 20:46:42</th>\n",
       "      <td>834142323881684993</td>\n",
       "      <td>'Americans overwhelmingly oppose sanctuary cit...</td>\n",
       "      <td>Twitter for iPhone</td>\n",
       "      <td>1</td>\n",
       "      <td>6</td>\n",
       "      <td>74</td>\n",
       "      <td>1</td>\n",
       "      <td>['Americans, overwhelmingly, oppose, sanctuary...</td>\n",
       "      <td>9</td>\n",
       "    </tr>\n",
       "    <tr>\n",
       "      <th>2017-02-21 00:38:40</th>\n",
       "      <td>833838311315763200</td>\n",
       "      <td>Congratulations to our new National Security A...</td>\n",
       "      <td>Twitter for iPhone</td>\n",
       "      <td>1</td>\n",
       "      <td>13</td>\n",
       "      <td>131</td>\n",
       "      <td>3</td>\n",
       "      <td>[Congratulations, to, our, new, National, Secu...</td>\n",
       "      <td>21</td>\n",
       "    </tr>\n",
       "  </tbody>\n",
       "</table>\n",
       "</div>"
      ],
      "text/plain": [
       "                                     id  \\\n",
       "created_at                                \n",
       "2017-02-22 12:50:56  834384982495940613   \n",
       "2017-02-22 12:20:40  834377364947816448   \n",
       "2017-02-21 23:23:13  834181712783560705   \n",
       "2017-02-21 20:46:42  834142323881684993   \n",
       "2017-02-21 00:38:40  833838311315763200   \n",
       "\n",
       "                                                                  text  \\\n",
       "created_at                                                               \n",
       "2017-02-22 12:50:56  Very much enjoyed my tour of the Smithsonian's...   \n",
       "2017-02-22 12:20:40  One thing I will say about Rep. Keith Ellison,...   \n",
       "2017-02-21 23:23:13  The so-called angry crowds in home districts o...   \n",
       "2017-02-21 20:46:42  'Americans overwhelmingly oppose sanctuary cit...   \n",
       "2017-02-21 00:38:40  Congratulations to our new National Security A...   \n",
       "\n",
       "                                  source  count  word_count  character_count  \\\n",
       "created_at                                                                     \n",
       "2017-02-22 12:50:56  Twitter for Android      1          22              140   \n",
       "2017-02-22 12:20:40  Twitter for Android      1          29              137   \n",
       "2017-02-21 23:23:13  Twitter for Android      1          21              136   \n",
       "2017-02-21 20:46:42   Twitter for iPhone      1           6               74   \n",
       "2017-02-21 00:38:40   Twitter for iPhone      1          13              131   \n",
       "\n",
       "                     sentence_count  \\\n",
       "created_at                            \n",
       "2017-02-22 12:50:56               1   \n",
       "2017-02-22 12:20:40               1   \n",
       "2017-02-21 23:23:13               2   \n",
       "2017-02-21 20:46:42               1   \n",
       "2017-02-21 00:38:40               3   \n",
       "\n",
       "                                                                tokens  \\\n",
       "created_at                                                               \n",
       "2017-02-22 12:50:56  [Very, much, enjoyed, my, tour, of, the, Smith...   \n",
       "2017-02-22 12:20:40  [One, thing, I, will, say, about, Rep., Keith,...   \n",
       "2017-02-21 23:23:13  [The, so-called, angry, crowds, in, home, dist...   \n",
       "2017-02-21 20:46:42  ['Americans, overwhelmingly, oppose, sanctuary...   \n",
       "2017-02-21 00:38:40  [Congratulations, to, our, new, National, Secu...   \n",
       "\n",
       "                     token_count  \n",
       "created_at                        \n",
       "2017-02-22 12:50:56           26  \n",
       "2017-02-22 12:20:40           32  \n",
       "2017-02-21 23:23:13           25  \n",
       "2017-02-21 20:46:42            9  \n",
       "2017-02-21 00:38:40           21  "
      ]
     },
     "execution_count": 13,
     "metadata": {},
     "output_type": "execute_result"
    }
   ],
   "source": [
    "data.head()"
   ]
  },
  {
   "cell_type": "code",
   "execution_count": 14,
   "metadata": {
    "collapsed": false
   },
   "outputs": [],
   "source": [
    "def histogram(data, start, end):\n",
    "    start = datetime.datetime.strptime(start, \"%Y-%m-%d\")\n",
    "    end = datetime.datetime.strptime(end, \"%Y-%m-%d\")\n",
    "    data['x'] = data.index\n",
    "    data = data[(data.x>datetime.date(year=start.year,month=start.month,day=start.day))\\\n",
    "                &(data.x<=datetime.date(year=end.year,month=end.month,day=end.day))]\n",
    "    data = data\n",
    "    time_10 = data.groupby(pd.TimeGrouper(freq='10Min'))['count', 'character_count'].sum()\n",
    "    grp = time_10.groupby(by=[time_10.index.map(lambda x : '{0:02}:{1:02}'.format(x.hour, x.minute))]).sum()\n",
    "    grp = grp.fillna(0)\n",
    "    grp['count'].plot()"
   ]
  },
  {
   "cell_type": "code",
   "execution_count": 15,
   "metadata": {
    "collapsed": false
   },
   "outputs": [
    {
     "name": "stderr",
     "output_type": "stream",
     "text": [
      "/Library/Python/2.7/site-packages/ipykernel/__main__.py:4: SettingWithCopyWarning: \n",
      "A value is trying to be set on a copy of a slice from a DataFrame.\n",
      "Try using .loc[row_indexer,col_indexer] = value instead\n",
      "\n",
      "See the caveats in the documentation: http://pandas.pydata.org/pandas-docs/stable/indexing.html#indexing-view-versus-copy\n"
     ]
    },
    {
     "data": {
      "image/png": "[encoded data removed]",
      "text/plain": [
       "<matplotlib.figure.Figure at 0x116f50090>"
      ]
     },
     "metadata": {},
     "output_type": "display_data"
    }
   ],
   "source": [
    "histogram(data[data.source=='Twitter for Android'], '2016-01-20', '2017-02-20');"
   ]
  },
  {
   "cell_type": "code",
   "execution_count": 17,
   "metadata": {
    "collapsed": false
   },
   "outputs": [
    {
     "name": "stderr",
     "output_type": "stream",
     "text": [
      "/Library/Python/2.7/site-packages/ipykernel/__main__.py:4: SettingWithCopyWarning: \n",
      "A value is trying to be set on a copy of a slice from a DataFrame.\n",
      "Try using .loc[row_indexer,col_indexer] = value instead\n",
      "\n",
      "See the caveats in the documentation: http://pandas.pydata.org/pandas-docs/stable/indexing.html#indexing-view-versus-copy\n"
     ]
    },
    {
     "data": {
      "image/png": "[encoded data removed]",
      "text/plain": [
       "<matplotlib.figure.Figure at 0x11814a890>"
      ]
     },
     "metadata": {},
     "output_type": "display_data"
    }
   ],
   "source": [
    "histogram(data[data.source=='Twitter for iPhone'], '2016-01-20', '2017-02-20');"
   ]
  },
  {
   "cell_type": "code",
   "execution_count": 87,
   "metadata": {
    "collapsed": false
   },
   "outputs": [
    {
     "name": "stderr",
     "output_type": "stream",
     "text": [
      "/Library/Python/2.7/site-packages/ipykernel/__main__.py:4: SettingWithCopyWarning: \n",
      "A value is trying to be set on a copy of a slice from a DataFrame.\n",
      "Try using .loc[row_indexer,col_indexer] = value instead\n",
      "\n",
      "See the caveats in the documentation: http://pandas.pydata.org/pandas-docs/stable/indexing.html#indexing-view-versus-copy\n"
     ]
    },
    {
     "data": {
      "image/png": "[encoded data removed]",
      "text/plain": [
       "<matplotlib.figure.Figure at 0x1160d2090>"
      ]
     },
     "metadata": {},
     "output_type": "display_data"
    }
   ],
   "source": [
    "histogram(data[data.source=='Twitter Web Client'], '2016-01-20', '2017-02-20')"
   ]
  },
  {
   "cell_type": "code",
   "execution_count": null,
   "metadata": {
    "collapsed": true
   },
   "outputs": [],
   "source": []
  }
 ],
 "metadata": {
  "kernelspec": {
   "display_name": "Python 2",
   "language": "python",
   "name": "python2"
  },
  "language_info": {
   "codemirror_mode": {
    "name": "ipython",
    "version": 2
   },
   "file_extension": ".py",
   "mimetype": "text/x-python",
   "name": "python",
   "nbconvert_exporter": "python",
   "pygments_lexer": "ipython2",
   "version": "2.7.12"
  },
  "widgets": {
   "state": {},
   "version": "1.1.2"
  }
 },
 "nbformat": 4,
 "nbformat_minor": 0
}
