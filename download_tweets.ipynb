{
 "cells": [
  {
   "cell_type": "code",
   "execution_count": 2,
   "metadata": {
    "collapsed": false
   },
   "outputs": [
    {
     "name": "stdout",
     "output_type": "stream",
     "text": [
      "getting tweets before 821719763214880768\n",
      "...400 tweets downloaded so far\n",
      "getting tweets before 808642018612310015\n",
      "...600 tweets downloaded so far\n",
      "getting tweets before 795057936565313535\n",
      "...800 tweets downloaded so far\n",
      "getting tweets before 789224624320028671\n",
      "...1000 tweets downloaded so far\n",
      "getting tweets before 785913754194104319\n",
      "...1200 tweets downloaded so far\n",
      "getting tweets before 781785509639118847\n",
      "...1400 tweets downloaded so far\n",
      "getting tweets before 774484342030602239\n",
      "...1600 tweets downloaded so far\n",
      "getting tweets before 766627569110249471\n",
      "...1800 tweets downloaded so far\n",
      "getting tweets before 759191265988653055\n",
      "...2000 tweets downloaded so far\n",
      "getting tweets before 754291925616852991\n",
      "...2200 tweets downloaded so far\n",
      "getting tweets before 746272130992644095\n",
      "...2400 tweets downloaded so far\n",
      "getting tweets before 738598954468659199\n",
      "...2600 tweets downloaded so far\n",
      "getting tweets before 732726105837277183\n",
      "...2800 tweets downloaded so far\n",
      "getting tweets before 725722027173249023\n",
      "...3000 tweets downloaded so far\n",
      "getting tweets before 718409541273194496\n",
      "...3200 tweets downloaded so far\n",
      "getting tweets before 711209246419845119\n",
      "...3243 tweets downloaded so far\n",
      "getting tweets before 710453513155960833\n",
      "...3243 tweets downloaded so far\n"
     ]
    }
   ],
   "source": [
    "#!/usr/bin/env python\n",
    "# encoding: utf-8\n",
    "\n",
    "import tweepy #https://github.com/tweepy/tweepy\n",
    "import csv\n",
    "\n",
    "#Twitter API credentials\n",
    "consumer_key = \"WVXc3nz6XytTPRbXluiyY4pPN\"\n",
    "consumer_secret = \"HZg2ViVKUDYDEYIbkkDU1zyg957Hx7PeKBmZ2x1LGRFW6rrCmy\"\n",
    "access_key = \"939243858-zdNEuwCut0ZFIrof5kKAK83eP73oU6eHUh2hKmtU\"\n",
    "access_secret = \"ArwDDrRsKp7ROUKNYSB3lAAvJlLDPFS9MzRIroVrAx4u2\"\n",
    "\n",
    "\n",
    "def get_all_tweets(screen_name):\n",
    "    #Twitter only allows access to a users most recent 3240 tweets with this method\n",
    "    \n",
    "    #authorize twitter, initialize tweepy\n",
    "    auth = tweepy.OAuthHandler(consumer_key, consumer_secret)\n",
    "    auth.set_access_token(access_key, access_secret)\n",
    "    api = tweepy.API(auth)\n",
    "    \n",
    "    #initialize a list to hold all the tweepy Tweets\n",
    "    alltweets = []    \n",
    "    \n",
    "    #make initial request for most recent tweets (200 is the maximum allowed count)\n",
    "    new_tweets = api.user_timeline(screen_name = screen_name,count=200)\n",
    "    \n",
    "    #save most recent tweets\n",
    "    alltweets.extend(new_tweets)\n",
    "    \n",
    "    #save the id of the oldest tweet less one\n",
    "    oldest = alltweets[-1].id - 1\n",
    "    \n",
    "    #keep grabbing tweets until there are no tweets left to grab\n",
    "    while len(new_tweets) > 0:\n",
    "        print \"getting tweets before %s\" % (oldest)\n",
    "        \n",
    "        #all subsiquent requests use the max_id param to prevent duplicates\n",
    "        new_tweets = api.user_timeline(screen_name = screen_name,count=200,max_id=oldest)\n",
    "        \n",
    "        #save most recent tweets\n",
    "        alltweets.extend(new_tweets)\n",
    "        \n",
    "        #update the id of the oldest tweet less one\n",
    "        oldest = alltweets[-1].id - 1\n",
    "        \n",
    "        print \"...%s tweets downloaded so far\" % (len(alltweets))\n",
    "    \n",
    "    #transform the tweepy tweets into a 2D array that will populate the csv    \n",
    "    outtweets = [[tweet.id_str, tweet.created_at, tweet.text.encode(\"utf-8\")] for tweet in alltweets]\n",
    "    \n",
    "    #write the csv    \n",
    "    with open('%s_tweets.csv' % screen_name, 'wb') as f:\n",
    "        writer = csv.writer(f)\n",
    "        writer.writerow([\"id\",\"created_at\",\"text\"])\n",
    "        writer.writerows(outtweets)\n",
    "    \n",
    "    pass\n",
    "\n",
    "\n",
    "if __name__ == '__main__':\n",
    "    #pass in the username of the account you want to download\n",
    "    get_all_tweets(\"realDonaldTrump\")"
   ]
  },
  {
   "cell_type": "code",
   "execution_count": 3,
   "metadata": {
    "collapsed": false
   },
   "outputs": [
    {
     "name": "stdout",
     "output_type": "stream",
     "text": [
      "hackathon.ipynb  realDonaldTrump_tweets.csv\r\n"
     ]
    }
   ],
   "source": [
    "!ls"
   ]
  },
  {
   "cell_type": "code",
   "execution_count": 6,
   "metadata": {
    "collapsed": false
   },
   "outputs": [
    {
     "name": "stdout",
     "output_type": "stream",
     "text": [
      "id,created_at,text\r",
      "\r\n",
      "833435244451753984,2017-02-19 21:57:01,My statement as to what's happening in Sweden was in reference to a story that was broadcast on @FoxNews concerning immigrants &amp; Sweden.\r",
      "\r\n",
      "832950628750127106,2017-02-18 13:51:20,\"Will be having many meetings this weekend at The Southern White House. Big 5:00 P.M. speech in Melbourne, Florida. A lot to talk about!\"\r",
      "\r\n",
      "832945737625387008,2017-02-18 13:31:53,Don't believe the main stream (fake news) media.The White House is running VERY WELL. I inherited a MESS and am in the process of fixing it.\r",
      "\r\n",
      "832742165436579840,2017-02-18 00:02:58,Looking forward to the Florida rally tomorrow. Big crowd expected!\r",
      "\r\n",
      "832730328108134402,2017-02-17 23:15:56,\"\"\"One of the most effective press conferences I've ever seen!\"\" says Rush Limbaugh. Many agree.Yet FAKE MEDIA  calls it differently! Dishonest\"\r",
      "\r\n",
      "832708293516632065,2017-02-17 21:48:22,\"The FAKE NEWS media (failing @nytimes, @NBCNews, @ABC, @CBS, @CNN) is not my enemy, it is the enemy of the American People!\"\r",
      "\r",
      "\r\n",
      "832614137586933760,2017-02-17 15:34:14,\"Join me at 11:00am:\r\n",
      "Watch here: https://t.co/veqKmsGAwf https://t.co/UzndIjIqjM\"\r",
      "\r\n",
      "832579442790772736,2017-02-17 13:16:22,\"General Keith Kellogg, who I have known for a long time, is very much in play for NSA - as are three others.\"\r",
      "\r\n"
     ]
    }
   ],
   "source": [
    "!head realDonaldTrump_tweets.csv"
   ]
  },
  {
   "cell_type": "code",
   "execution_count": null,
   "metadata": {
    "collapsed": true
   },
   "outputs": [],
   "source": []
  }
 ],
 "metadata": {
  "kernelspec": {
   "display_name": "Python 2",
   "language": "python",
   "name": "python2"
  },
  "language_info": {
   "codemirror_mode": {
    "name": "ipython",
    "version": 2
   },
   "file_extension": ".py",
   "mimetype": "text/x-python",
   "name": "python",
   "nbconvert_exporter": "python",
   "pygments_lexer": "ipython2",
   "version": "2.7.12"
  },
  "widgets": {
   "state": {},
   "version": "1.1.2"
  }
 },
 "nbformat": 4,
 "nbformat_minor": 0
}
